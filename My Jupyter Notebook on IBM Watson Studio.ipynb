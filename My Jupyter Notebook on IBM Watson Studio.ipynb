{
 "cells": [
  {
   "cell_type": "markdown",
   "id": "008cce29",
   "metadata": {},
   "source": [
    "# My Jupyter Notebook on IBM Watson Studio"
   ]
  },
  {
   "cell_type": "markdown",
   "id": "fd8422de",
   "metadata": {},
   "source": [
    "<b>Giovanni Pede</b>, Project manager"
   ]
  },
  {
   "cell_type": "markdown",
   "id": "6dc3ae69",
   "metadata": {},
   "source": [
    "<i> I'm interested in Data Science as my background is in statistics and economics and I need tools to learn from data and take more informed decisions</i>"
   ]
  },
  {
   "cell_type": "markdown",
   "id": "45d449c1",
   "metadata": {},
   "source": [
    "### This is the python code to show the result of (a+b)"
   ]
  },
  {
   "cell_type": "code",
   "execution_count": 1,
   "id": "f2af3f92",
   "metadata": {},
   "outputs": [
    {
     "name": "stdout",
     "output_type": "stream",
     "text": [
      "22\n"
     ]
    }
   ],
   "source": [
    "a = 12\n",
    "b = 10\n",
    "print(a+b)"
   ]
  },
  {
   "cell_type": "markdown",
   "id": "c36981da",
   "metadata": {},
   "source": [
    "This cell includes bullet points:<li>as requested by the exercise<li>unodered\n",
    "    \n",
    "It includes a table as well\n",
    "    <table>\n",
    "  <tr>\n",
    "    <th>Company</th>\n",
    "    <th>Contact</th>\n",
    "    <th>Country</th>\n",
    "  </tr>\n",
    "  <tr>\n",
    "    <td>Alfreds Futterkiste</td>\n",
    "    <td>Maria Anders</td>\n",
    "    <td>Germany</td>\n",
    "  </tr>\n",
    "  <tr>\n",
    "    <td>Centro comercial Moctezuma</td>\n",
    "    <td>Francisco Chang</td>\n",
    "    <td>Mexico</td>\n",
    "  </tr>\n",
    "</table>\n",
    "    \n",
    "And a link to external resources\n",
    "    <a title=\"in HTML.it puoi trovare risorse per webmaster\"\n",
    "href=\"https://www.html.it/\" target=\"_blank\" >\n",
    "Visita HTML.it\n",
    "</a>\n",
    "    \n",
    "\n",
    "    "
   ]
  }
 ],
 "metadata": {
  "kernelspec": {
   "display_name": "Python 3 (ipykernel)",
   "language": "python",
   "name": "python3"
  },
  "language_info": {
   "codemirror_mode": {
    "name": "ipython",
    "version": 3
   },
   "file_extension": ".py",
   "mimetype": "text/x-python",
   "name": "python",
   "nbconvert_exporter": "python",
   "pygments_lexer": "ipython3",
   "version": "3.10.5"
  }
 },
 "nbformat": 4,
 "nbformat_minor": 5
}
